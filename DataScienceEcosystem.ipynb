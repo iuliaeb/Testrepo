{
 "cells": [
  {
   "cell_type": "markdown",
   "id": "4b671d51-2ff4-4f0c-9b6a-af947b89641d",
   "metadata": {},
   "source": [
    "# Data Science Tools and Ecosystem"
   ]
  },
  {
   "cell_type": "markdown",
   "id": "b931bfd2-0a7d-4452-a5e1-6b3f34d2eb0f",
   "metadata": {},
   "source": [
    "In this notebook, Data Science Tools and Ecosystem are summarized."
   ]
  },
  {
   "cell_type": "markdown",
   "id": "fa7df11c-d2f8-489e-a5ab-180a5c11eb81",
   "metadata": {},
   "source": [
    "<b>Objectives:\n",
    "* List of popular languages for Data Science\n",
    "* List of commonly used libraries\n",
    "* List of Data Science tools"
   ]
  },
  {
   "cell_type": "markdown",
   "id": "89d1cfa7-368b-4c71-abdb-c5eba0ccd78d",
   "metadata": {},
   "source": [
    "Some of the popular languages that Data Scientists use are:\n",
    "1. Python\n",
    "2. R\n",
    "3. SQL"
   ]
  },
  {
   "cell_type": "markdown",
   "id": "dae82ae8-0129-48f3-adb8-4ccb6043c6ba",
   "metadata": {},
   "source": [
    "Some of the commonly used libraries used by Data Scientists include:\n",
    "\n",
    "1. NumPy\n",
    "2. Matplotlib\n",
    "3. SciPy\n",
    "4. Pandas"
   ]
  },
  {
   "cell_type": "markdown",
   "id": "7ce9dc73-ea23-4b44-8f4d-954c58c8932d",
   "metadata": {},
   "source": [
    "| Data Science Tools |\n",
    "| ----- |\n",
    "| PyCharm |\n",
    "| Jupyter IDE |\n",
    "| RStudio |"
   ]
  },
  {
   "cell_type": "markdown",
   "id": "ae1c04a4-de0f-4677-820a-67ca981c5493",
   "metadata": {},
   "source": [
    "### Below are a few examples of evaluating arithmetic expressions in Python"
   ]
  },
  {
   "cell_type": "code",
   "execution_count": 10,
   "id": "f8b19b29-c276-4e5c-ad1b-5e5348374503",
   "metadata": {},
   "outputs": [
    {
     "name": "stdout",
     "output_type": "stream",
     "text": [
      "This a simple arithmetic expression to multiply then add integers\n"
     ]
    },
    {
     "data": {
      "text/plain": [
       "17"
      ]
     },
     "execution_count": 10,
     "metadata": {},
     "output_type": "execute_result"
    }
   ],
   "source": [
    "print(\"This a simple arithmetic expression to multiply then add integers\")\n",
    "\n",
    "(3*4)+5"
   ]
  },
  {
   "cell_type": "code",
   "execution_count": 11,
   "id": "23fa33f9-77f6-4aec-a034-660f7992ab09",
   "metadata": {},
   "outputs": [
    {
     "name": "stdout",
     "output_type": "stream",
     "text": [
      "This will convert 200 minutes to hours by diving by 60\n"
     ]
    },
    {
     "data": {
      "text/plain": [
       "3.3333333333333335"
      ]
     },
     "execution_count": 11,
     "metadata": {},
     "output_type": "execute_result"
    }
   ],
   "source": [
    "print(\"This will convert 200 minutes to hours by diving by 60\")\n",
    "200/60"
   ]
  },
  {
   "cell_type": "markdown",
   "id": "2c0144d1-fb76-4572-90c7-0d4839c0ae6f",
   "metadata": {},
   "source": [
    "## Author\n",
    "Iulia Barbu"
   ]
  },
  {
   "cell_type": "code",
   "execution_count": null,
   "id": "05e47dc4-40b2-4d31-9ecc-ecf05e62ee47",
   "metadata": {},
   "outputs": [],
   "source": []
  }
 ],
 "metadata": {
  "kernelspec": {
   "display_name": "Python 3 (ipykernel)",
   "language": "python",
   "name": "python3"
  },
  "language_info": {
   "codemirror_mode": {
    "name": "ipython",
    "version": 3
   },
   "file_extension": ".py",
   "mimetype": "text/x-python",
   "name": "python",
   "nbconvert_exporter": "python",
   "pygments_lexer": "ipython3",
   "version": "3.12.8"
  }
 },
 "nbformat": 4,
 "nbformat_minor": 5
}
